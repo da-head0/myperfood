{
  "nbformat": 4,
  "nbformat_minor": 0,
  "metadata": {
    "colab": {
      "name": "고양이 사료 크롤링.ipynb",
      "provenance": [],
      "authorship_tag": "ABX9TyMIgVjzx0tvW1LTcvDwGxEw",
      "include_colab_link": true
    },
    "kernelspec": {
      "name": "python3",
      "display_name": "Python 3"
    },
    "language_info": {
      "name": "python"
    }
  },
  "cells": [
    {
      "cell_type": "markdown",
      "metadata": {
        "id": "view-in-github",
        "colab_type": "text"
      },
      "source": [
        "<a href=\"https://colab.research.google.com/github/da-head0/mypetfood/blob/main/%EA%B3%A0%EC%96%91%EC%9D%B4_%EC%82%AC%EB%A3%8C_%ED%81%AC%EB%A1%A4%EB%A7%81.ipynb\" target=\"_parent\"><img src=\"https://colab.research.google.com/assets/colab-badge.svg\" alt=\"Open In Colab\"/></a>"
      ]
    },
    {
      "cell_type": "code",
      "metadata": {
        "colab": {
          "base_uri": "https://localhost:8080/"
        },
        "id": "MAp7k_uXOZ8l",
        "outputId": "7588345d-e202-42db-f131-4612a5314671"
      },
      "source": [
        "!pip install requests\n",
        "!pip install bs4"
      ],
      "execution_count": null,
      "outputs": [
        {
          "output_type": "stream",
          "text": [
            "Requirement already satisfied: requests in /usr/local/lib/python3.7/dist-packages (2.23.0)\n",
            "Requirement already satisfied: idna<3,>=2.5 in /usr/local/lib/python3.7/dist-packages (from requests) (2.10)\n",
            "Requirement already satisfied: chardet<4,>=3.0.2 in /usr/local/lib/python3.7/dist-packages (from requests) (3.0.4)\n",
            "Requirement already satisfied: certifi>=2017.4.17 in /usr/local/lib/python3.7/dist-packages (from requests) (2020.12.5)\n",
            "Requirement already satisfied: urllib3!=1.25.0,!=1.25.1,<1.26,>=1.21.1 in /usr/local/lib/python3.7/dist-packages (from requests) (1.24.3)\n",
            "Requirement already satisfied: bs4 in /usr/local/lib/python3.7/dist-packages (0.0.1)\n",
            "Requirement already satisfied: beautifulsoup4 in /usr/local/lib/python3.7/dist-packages (from bs4) (4.6.3)\n"
          ],
          "name": "stdout"
        }
      ]
    },
    {
      "cell_type": "code",
      "metadata": {
        "colab": {
          "base_uri": "https://localhost:8080/"
        },
        "id": "TIr8ZXvhOunq",
        "outputId": "2c725163-4149-4f97-9025-cb3b79937bbf"
      },
      "source": [
        "import requests\n",
        "from bs4 import BeautifulSoup\n",
        "\n",
        "req = requests.get('https://catpre.com/category/053?page=0&sortBy=TOTAL_REVIEW_COUNT_DESC')\n",
        "\n",
        "sourcedic = {}\n",
        "# 소스 가져오기\n",
        "html = req.text\n",
        "soup = BeautifulSoup(html, 'html.parser')\n",
        "\n",
        "titles = soup.select('h3')\n",
        "\n",
        "for title in titles:\n",
        "  for pr in soup.select('strong'):\n",
        "    sourcedic[title.text] = pr\n",
        "  #print(title.get('href')) # tag href 속성 가져오기\n",
        "sourcedic"
      ],
      "execution_count": null,
      "outputs": [
        {
          "output_type": "execute_result",
          "data": {
            "text/plain": [
              "{'네츄럴코어 유기농 95% 멀티프로틴 2.4kg': <strong>기업은행 채무지급보증 안내</strong>,\n",
              " '뉴트로 내추럴 초이스 인도어 어덜트 닭고기와 현미 2.27kg': <strong>기업은행 채무지급보증 안내</strong>,\n",
              " '로얄캐닌 라이트 웨이트 케어 3kg': <strong>기업은행 채무지급보증 안내</strong>,\n",
              " '로얄캐닌 마더&베이비캣 4kg': <strong>기업은행 채무지급보증 안내</strong>,\n",
              " '로얄캐닌 인도어 4kg': <strong>기업은행 채무지급보증 안내</strong>,\n",
              " '로얄캐닌 키튼 4kg': <strong>기업은행 채무지급보증 안내</strong>,\n",
              " '로얄캐닌 키튼 그레이비 파우치 85g': <strong>기업은행 채무지급보증 안내</strong>,\n",
              " '로얄캐닌 피트 4kg': <strong>기업은행 채무지급보증 안내</strong>,\n",
              " '미유믹스 버라이어티팩 치킨&참치&새우 캔 12개입': <strong>기업은행 채무지급보증 안내</strong>,\n",
              " '오리젠 캣앤키튼 1.8kg': <strong>기업은행 채무지급보증 안내</strong>,\n",
              " '위스카스 주니어 참치 파우치 85g': <strong>기업은행 채무지급보증 안내</strong>,\n",
              " '이즈칸 캣 그레인프리 어덜트 6.5kg': <strong>기업은행 채무지급보증 안내</strong>,\n",
              " '퓨리나 팬시피스트 연어 캔 85g': <strong>기업은행 채무지급보증 안내</strong>,\n",
              " '퓨리나 팬시피스트 참치&흰살생선 캔 85g': <strong>기업은행 채무지급보증 안내</strong>,\n",
              " '퓨리나 팬시피스트 키튼 흰살생선 캔 85g': <strong>기업은행 채무지급보증 안내</strong>,\n",
              " '퓨어비타 그레인프리 치킨 1kg': <strong>기업은행 채무지급보증 안내</strong>,\n",
              " '퓨어비타 그레인프리 치킨 3kg': <strong>기업은행 채무지급보증 안내</strong>,\n",
              " '프로베스트 캣 15kg': <strong>기업은행 채무지급보증 안내</strong>,\n",
              " '프로베스트 캣 2kg': <strong>기업은행 채무지급보증 안내</strong>,\n",
              " '프로베스트 캣 7.5kg': <strong>기업은행 채무지급보증 안내</strong>}"
            ]
          },
          "metadata": {
            "tags": []
          },
          "execution_count": 6
        }
      ]
    },
    {
      "cell_type": "code",
      "metadata": {
        "id": "Wcubdq-6QZn4"
      },
      "source": [
        "import requests\n",
        "from bs4 import BeautifulSoup\n",
        "\n",
        "req = requests.get('https://catpre.com/category/053?page=0&sortBy=TOTAL_REVIEW_COUNT_DESC')\n",
        "\n",
        "sourcedic = {}\n",
        "# 소스 가져오기\n",
        "html = req.text\n",
        "soup = BeautifulSoup(html, 'html.parser')\n",
        "\n",
        "titles = soup.select('div, class=')\n",
        "\n",
        "for title in titles:\n",
        "  for pr in soup.select('strong'):\n",
        "    sourcedic[title.text] = pr\n",
        "  #print(title.get('href')) # tag href 속성 가져오기\n",
        "sourcedic"
      ],
      "execution_count": null,
      "outputs": []
    },
    {
      "cell_type": "code",
      "metadata": {
        "colab": {
          "base_uri": "https://localhost:8080/"
        },
        "id": "ReUkxKI-UEmA",
        "outputId": "52f58ba0-6ba7-4316-c0a8-c56f0c541851"
      },
      "source": [
        "import requests\n",
        "\n",
        "def crawl(pagenum):\n",
        "  url = f\"https://catpre.com/category/053?page={pagenum}&sortBy=TOTAL_REVIEW_COUNT_DESC\"\n",
        "  data = requests.get(url)\n",
        "  html = data.text\n",
        "  soup = BeautifulSoup(html, 'html.parser')\n",
        "\n",
        "  titles = soup.find('h3')\n",
        "  print(titles.text)\n",
        "\n",
        "  prices = soup.find('strong', {'class':'jss227'})\n",
        "  #for pr in prices:\n",
        "  print(prices.text)\n",
        "  \n",
        "crawl(35)\n",
        "#def parse(pageString):"
      ],
      "execution_count": null,
      "outputs": [
        {
          "output_type": "stream",
          "text": [
            "캣츠파인푸드 필렛 No.415 캥거루 캔 85g\n",
            "4,000원\n"
          ],
          "name": "stdout"
        }
      ]
    },
    {
      "cell_type": "markdown",
      "metadata": {
        "id": "AD-iveRtZn3A"
      },
      "source": [
        "- 여기는 클래스 이름이 널뛰어서 딴 사이트로 옮기기로..^^"
      ]
    },
    {
      "cell_type": "code",
      "metadata": {
        "id": "KpYb09yZZqFR",
        "colab": {
          "base_uri": "https://localhost:8080/"
        },
        "outputId": "8a239a9e-eb60-4327-de8c-611c664f778f"
      },
      "source": [
        "import requests\n",
        "\n",
        "def crawl():\n",
        "  # 클래스가 증가할 때 마다 hidden body가 나타난다?\n",
        "  url = f\"https://www.purplesto.re/products/sales/list/?type=category&value=18\"\n",
        "  data = requests.get(url)\n",
        "  html = data.text\n",
        "  soup = BeautifulSoup(html, 'html.parser')\n",
        "\n",
        "  titles = soup.select('li')\n",
        "  for i in titles:\n",
        "    print(i.text)\n",
        "\n",
        "  # prices = soup.find('strong', {'class':'jss227'})\n",
        "  # #for pr in prices:\n",
        "  # print(prices.text)\n",
        "  \n",
        "crawl()\n",
        "#def parse(pageString):"
      ],
      "execution_count": 44,
      "outputs": [
        {
          "output_type": "stream",
          "text": [
            " 고객센터\n",
            " 주문/배송\n",
            " 정기 배송\n",
            "전체보기\n",
            "주식\n",
            "간식\n",
            "용품\n",
            "회사소개\n",
            "채용 안내\n",
            "입점 문의\n",
            "도매 문의\n",
            "어플라우즈\n",
            "폴카독베이커리\n",
            "퍼플네스트\n",
            "퍼플잼 \n",
            "고객센터/FAQ\n",
            "공지사항\n",
            "이용약관\n",
            "개인정보 처리방침\n",
            "사업자정보 확인\n",
            "터키츄\n",
            "열빙어\n",
            "네스트매트\n",
            "네스트보울\n",
            "폴카독\n",
            "어플라우즈\n",
            "파미나\n",
            "지위픽\n",
            "펫밀크\n",
            "닥터링크\n"
          ],
          "name": "stdout"
        }
      ]
    },
    {
      "cell_type": "code",
      "metadata": {
        "colab": {
          "base_uri": "https://localhost:8080/"
        },
        "id": "EI2kIWWNrOaM",
        "outputId": "dbf47105-00e9-4763-fc5d-c7a02f51c512"
      },
      "source": [
        "import requests\n",
        "import re\n",
        "\n",
        "database = {}\n",
        "\n",
        "def crawl(num):\n",
        "  # 클래스가 증가할 때 마다 hidden body가 나타난다?\n",
        "  url = f\"https://www.purplesto.re/products/sales/{num}\"\n",
        "  data = requests.get(url)\n",
        "  html = data.text\n",
        "  soup = BeautifulSoup(html, 'html.parser')\n",
        "\n",
        "  titles = soup.find('p', {'class':'productInfo__name'})\n",
        "  database['title'] = titles.text\n",
        "\n",
        "  brand = soup.select_one('section > div > section.productInfo > div.productInfo__content > div.productInfo__title > span > a')\n",
        "  database['brand'] = brand.text\n",
        "\n",
        "  detail = soup.find('div', {'class':'productSubInfo__detail-table'}).getText(separator=u' ')\n",
        "  age = detail.split('연령구분 ')[1].split(' 푸드타입 ')  # 정보 나옴 - 정규식으로 처리 해서 딕셔너리 넣을 수 있을듯\n",
        "  database['age'] = age[0]\n",
        "  category = age[1].split(' 중량 ')\n",
        "  database['category'] = category[0]\n",
        "  gram = category[1].split(' 주재료 ')\n",
        "  database['gram'] = gram[0]\n",
        "  ingredient = gram[1].split(' 식단정보 ')\n",
        "  database['ingredient'] = ingredient[0]\n",
        "  info = ingredient[1].split(' 칼로리 ')\n",
        "  database['info'] = info[0]\n",
        "  from_company = info[1].split(' 원산지/제조사 ')\n",
        "  database['calory'] = from_company[0]\n",
        "  database['from_company'] = from_company[1]\n",
        "  print(from_company)\n",
        "\n",
        "  img = soup.find('img'>'src', {'alt':'상품 이미지'})\n",
        "  database['img'] = img['src']\n",
        "\n",
        "  content = soup.find('div', {'class':'content'})\n",
        "  database['content'] = content.text\n",
        "\n",
        "  registeredIngredient__grid = soup.find('div', {'class':'registeredIngredient__grid'})\n",
        "  #for ing in registeredIngredient__grid:\n",
        "    #print(ing)\n",
        "\n",
        "  return database\n",
        "\n",
        "crawl(3852)"
      ],
      "execution_count": 132,
      "outputs": [
        {
          "output_type": "stream",
          "text": [
            "['948 kcal/kg (66 kcal/캔)', '태국/HI-Q FOOD PRODUCTS CO.LTD']\n"
          ],
          "name": "stdout"
        },
        {
          "output_type": "execute_result",
          "data": {
            "text/plain": [
              "{'age': '키튼,어덜트,시니어,전연령',\n",
              " 'brand': '알모네이쳐 (ALMO NATURE)',\n",
              " 'calory': '948 kcal/kg (66 kcal/캔)',\n",
              " 'category': '습식간식',\n",
              " 'content': '참치살(55%), 정제수(24%), 새우(20%), 쌀(1%)',\n",
              " 'from_company': '태국/HI-Q FOOD PRODUCTS CO.LTD',\n",
              " 'gram': '70g',\n",
              " 'img': 'https://cdn.purplesto.re/media/store/sale/main_image/almonature_cat_B131CT12_thumb01.png',\n",
              " 'info': '글루텐프리,비유전자변형',\n",
              " 'ingredient': '참치살, 정제수, 새우',\n",
              " 'title': 'CAT HFC 내츄럴 캔 참치와 새우 70g'}"
            ]
          },
          "metadata": {
            "tags": []
          },
          "execution_count": 132
        }
      ]
    },
    {
      "cell_type": "code",
      "metadata": {
        "colab": {
          "base_uri": "https://localhost:8080/"
        },
        "id": "P-ihGx5ftwR5",
        "outputId": "10107bfd-6f2f-42a3-acd6-871a4faa6379"
      },
      "source": [
        "s = \"\"\"<div class=\"productSubInfo__detail-table__row\"><div class=\"title\">연령구분</div><div class=\"text\">키튼,어덜트,시니어,전연령</div></div>\n",
        "\"\"\"\n",
        "\n",
        "import re\n",
        "\n",
        "p = re.compile(\"\\\"title\\\">.+$</div>\")\n",
        "p.findall(s)"
      ],
      "execution_count": 88,
      "outputs": [
        {
          "output_type": "execute_result",
          "data": {
            "text/plain": [
              "[]"
            ]
          },
          "metadata": {
            "tags": []
          },
          "execution_count": 88
        }
      ]
    }
  ]
}